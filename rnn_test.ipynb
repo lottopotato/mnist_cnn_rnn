{
 "cells": [
  {
   "cell_type": "code",
   "execution_count": 1,
   "metadata": {},
   "outputs": [],
   "source": [
    "# rnn test code"
   ]
  },
  {
   "cell_type": "code",
   "execution_count": 2,
   "metadata": {},
   "outputs": [],
   "source": [
    "from mnist_read import load_mnist\n",
    "\n",
    "import tensorflow as tf\n",
    "import numpy as np"
   ]
  },
  {
   "cell_type": "code",
   "execution_count": 3,
   "metadata": {},
   "outputs": [
    {
     "name": "stdout",
     "output_type": "stream",
     "text": [
      " current train_img shape :  (60000, 28, 28, 1)\n"
     ]
    }
   ],
   "source": [
    "mnist = load_mnist()"
   ]
  },
  {
   "cell_type": "code",
   "execution_count": 4,
   "metadata": {},
   "outputs": [],
   "source": [
    "train_num = 60000\n",
    "test_num = 10000\n",
    "batch_size = 100\n",
    "\n",
    "epoch = 5\n",
    "data_dims = (28, 28)\n",
    "cell_dims = [128, 3]\n",
    "learning_rate = 0.001"
   ]
  },
  {
   "cell_type": "code",
   "execution_count": 5,
   "metadata": {},
   "outputs": [],
   "source": [
    "X = tf.placeholder(tf.float32, [None, 28, 28])\n",
    "Y = tf.placeholder(tf.float32, [None, 10])"
   ]
  },
  {
   "cell_type": "code",
   "execution_count": 6,
   "metadata": {},
   "outputs": [],
   "source": [
    "rnnCell = tf.nn.rnn_cell"
   ]
  },
  {
   "cell_type": "code",
   "execution_count": 7,
   "metadata": {},
   "outputs": [],
   "source": [
    "cells = [rnnCell.BasicLSTMCell(num_units = n) for n in cell_dims]\n",
    "multiCell = rnnCell.MultiRNNCell(cells)\n",
    "outputs, _ = tf.nn.dynamic_rnn(multiCell, X, dtype=tf.float32)"
   ]
  },
  {
   "cell_type": "code",
   "execution_count": 8,
   "metadata": {
    "scrolled": true
   },
   "outputs": [
    {
     "name": "stdout",
     "output_type": "stream",
     "text": [
      "Tensor(\"rnn/transpose_1:0\", shape=(?, 28, 3), dtype=float32)\n"
     ]
    }
   ],
   "source": [
    "print(outputs)"
   ]
  },
  {
   "cell_type": "code",
   "execution_count": 9,
   "metadata": {},
   "outputs": [],
   "source": [
    "outputs = tf.transpose(outputs, [1, 0, 2])[-1]"
   ]
  },
  {
   "cell_type": "code",
   "execution_count": 10,
   "metadata": {},
   "outputs": [
    {
     "name": "stdout",
     "output_type": "stream",
     "text": [
      "Tensor(\"strided_slice:0\", shape=(?, 3), dtype=float32)\n"
     ]
    }
   ],
   "source": [
    "print(outputs)"
   ]
  },
  {
   "cell_type": "code",
   "execution_count": 13,
   "metadata": {
    "scrolled": true
   },
   "outputs": [],
   "source": [
    "fc_outputs = tf.contrib.layers.fully_connected(outputs, 10, activation_fn = None)"
   ]
  },
  {
   "cell_type": "code",
   "execution_count": 14,
   "metadata": {},
   "outputs": [
    {
     "name": "stdout",
     "output_type": "stream",
     "text": [
      "Tensor(\"fully_connected_1/BiasAdd:0\", shape=(?, 10), dtype=float32)\n"
     ]
    }
   ],
   "source": [
    "print(fc_outputs)"
   ]
  },
  {
   "cell_type": "code",
   "execution_count": 15,
   "metadata": {},
   "outputs": [],
   "source": [
    "loss = tf.reduce_mean(tf.nn.softmax_cross_entropy_with_logits_v2(logits = fc_outputs, labels = Y))"
   ]
  },
  {
   "cell_type": "code",
   "execution_count": 16,
   "metadata": {},
   "outputs": [],
   "source": [
    "train_op = tf.train.AdamOptimizer(learning_rate).minimize(loss)"
   ]
  },
  {
   "cell_type": "code",
   "execution_count": 17,
   "metadata": {},
   "outputs": [],
   "source": [
    "sess=tf.Session()\n",
    "sess.run(tf.global_variables_initializer())"
   ]
  },
  {
   "cell_type": "code",
   "execution_count": 18,
   "metadata": {},
   "outputs": [],
   "source": [
    "total_batch = int(train_num/ batch_size)"
   ]
  },
  {
   "cell_type": "code",
   "execution_count": 23,
   "metadata": {},
   "outputs": [
    {
     "name": "stdout",
     "output_type": "stream",
     "text": [
      " batch 600/600 loss 0.597394 total-loss 406.675868\n",
      " epoch 0 | loss 0.677793\n",
      " batch 600/600 loss 0.509175 total-loss 323.752271\n",
      " epoch 1 | loss 0.539587\n",
      " batch 600/600 loss 0.471744 total-loss 267.385756\n",
      " epoch 2 | loss 0.445643\n",
      " batch 600/600 loss 0.368065 total-loss 231.212107\n",
      " epoch 3 | loss 0.385354\n",
      " batch 600/600 loss 0.353069 total-loss 202.773623\n",
      " epoch 4 | loss 0.337956\n"
     ]
    }
   ],
   "source": [
    "for i in range(epoch):\n",
    "    total_loss = 0\n",
    "    for j in range(total_batch):\n",
    "        train_x = mnist['train_img'][0 + (j*batch_size): ((j+1)*batch_size)]\n",
    "        train_y = mnist['train_label'][0 + (j*batch_size): ((j+1)*batch_size)]\n",
    "        train_x = np.squeeze(train_x, axis=3)\n",
    "        \n",
    "        _, loss_val = sess.run([train_op, loss], feed_dict={X:train_x, Y:train_y})\n",
    "        total_loss += loss_val\n",
    "        print(\" batch %i/%i loss %f total-loss %f\"%(j+1, total_batch, loss_val, total_loss), end=\"\\r\")\n",
    "    print(\"\\n epoch %i | loss %f\"%(i+1, total_loss/total_batch))"
   ]
  },
  {
   "cell_type": "code",
   "execution_count": 24,
   "metadata": {},
   "outputs": [],
   "source": [
    "match = tf.equal(tf.argmax(fc_outputs, 1), tf.argmax(Y, 1))\n",
    "accuracy = tf.reduce_mean(tf.cast(match, tf.float32))"
   ]
  },
  {
   "cell_type": "code",
   "execution_count": 27,
   "metadata": {},
   "outputs": [
    {
     "name": "stdout",
     "output_type": "stream",
     "text": [
      " batch 100/100 acc 0.930000\n",
      " accuracy = 0.884700\n"
     ]
    }
   ],
   "source": [
    "test_total_batch = int(test_num/batch_size)\n",
    "sum_acc = 0\n",
    "for i in range(test_total_batch):\n",
    "    test_x = mnist['test_img'][0 + (i*batch_size): ((i+1)*batch_size)]\n",
    "    test_x = np.squeeze(test_x, axis = 3)\n",
    "    test_y = mnist['test_label'][0 + (i*batch_size): ((i+1)*batch_size)]\n",
    "    \n",
    "    pred = sess.run(accuracy, feed_dict={X:test_x, Y:test_y})\n",
    "    sum_acc += pred\n",
    "    print(\" batch %i/%i acc %f\"%(i+1, test_total_batch, pred), end = \"\\r\")\n",
    "print(\"\\n accuracy = %f\"%(sum_acc/test_total_batch))"
   ]
  },
  {
   "cell_type": "code",
   "execution_count": null,
   "metadata": {},
   "outputs": [],
   "source": []
  }
 ],
 "metadata": {
  "kernelspec": {
   "display_name": "Python 3",
   "language": "python",
   "name": "python3"
  },
  "language_info": {
   "codemirror_mode": {
    "name": "ipython",
    "version": 3
   },
   "file_extension": ".py",
   "mimetype": "text/x-python",
   "name": "python",
   "nbconvert_exporter": "python",
   "pygments_lexer": "ipython3",
   "version": "3.6.4"
  }
 },
 "nbformat": 4,
 "nbformat_minor": 2
}
